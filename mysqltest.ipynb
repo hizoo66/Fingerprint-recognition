{
 "cells": [
  {
   "cell_type": "code",
   "execution_count": null,
   "metadata": {},
   "outputs": [],
   "source": [
    "import cv2\n",
    "import mysql.connector\n",
    "from PIL import Image\n",
    "import io \n",
    "import glob"
   ]
  },
  {
   "cell_type": "code",
   "execution_count": null,
   "metadata": {},
   "outputs": [],
   "source": [
    "#여러개 loop로 파일 여러개 열기\n",
    "image_datas = []\n",
    "for filee in sorted(glob.glob('./fimg/*.bmp')):\n",
    "    with open(filee, 'rb') as file:\n",
    "        image_datas.append(file.read())\n",
    "        "
   ]
  },
  {
   "cell_type": "code",
   "execution_count": 31,
   "metadata": {},
   "outputs": [],
   "source": [
    "#여러개 올리기\n",
    "connection = mysql.connector.connect(\n",
    "    host='localhost',\n",
    "    user='root',\n",
    "    password='haeju6706@',\n",
    "    database='fingerprint_db'\n",
    ")\n",
    "for i, fille in enumerate(image_datas):\n",
    "    cursor = connection.cursor()\n",
    "    sql = \"INSERT INTO images (filename, data) VALUES (%s, %s)\"\n",
    "    filename = f'image{i + 1}.bmp'\n",
    "    cursor.execute(sql, (filename, fille))\n",
    "    connection.commit()\n",
    "\n",
    "connection.close()\n"
   ]
  },
  {
   "cell_type": "code",
   "execution_count": null,
   "metadata": {},
   "outputs": [],
   "source": [
    "#3\n",
    "connection = mysql.connector.connect(\n",
    "    host='localhost',\n",
    "    user='root',\n",
    "    password='haeju6706@',\n",
    "    database='fingerprint_db'\n",
    ")\n",
    "\n",
    "cursor = connection.cursor()\n",
    "sql = \"SELECT data FROM images WHERE id = %s\"\n",
    "cursor.execute(sql, (3,))\n",
    "\n",
    "image_data = cursor.fetchone()[0]\n",
    "image = Image.open(io.BytesIO(image_data))\n",
    "\n",
    "#여기서부터 저장\n",
    "image.save('saved_image.bmp')\n",
    "\n",
    "connection.close()"
   ]
  },
  {
   "cell_type": "code",
   "execution_count": null,
   "metadata": {},
   "outputs": [],
   "source": [
    "#4\n",
    "img2 = cv2.imread('./saved_image.bmp')\n",
    "cv2.imshow('heoll',img2)\n",
    "cv2.waitKey(0)\n",
    "cv2.destroyWindow\n"
   ]
  }
 ],
 "metadata": {
  "kernelspec": {
   "display_name": "test1",
   "language": "python",
   "name": "python3"
  },
  "language_info": {
   "codemirror_mode": {
    "name": "ipython",
    "version": 3
   },
   "file_extension": ".py",
   "mimetype": "text/x-python",
   "name": "python",
   "nbconvert_exporter": "python",
   "pygments_lexer": "ipython3",
   "version": "3.11.0"
  }
 },
 "nbformat": 4,
 "nbformat_minor": 2
}
